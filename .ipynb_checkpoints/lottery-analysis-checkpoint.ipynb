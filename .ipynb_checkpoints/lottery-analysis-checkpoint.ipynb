{
 "cells": [
  {
   "cell_type": "markdown",
   "id": "c4628b89",
   "metadata": {},
   "source": [
    "# Lottery Analysis\n",
    "\n",
    "Powerball is an American lottery game where a player selects five numbers between `1` and `69`. These five numbers are the five `white balls`. In addition, a player selects one number between `1` and `26`. This number is the `red Powerball`, which acts as a multiplier.\n",
    "\n",
    "Players can choose their numbers on a play slip or let the lottery terminal randomly pick their numbers.\n",
    "\n",
    "## Project Overview\n",
    "\n",
    "Overview\n",
    "\n",
    "## Dataset Overview\n"
   ]
  },
  {
   "cell_type": "code",
   "execution_count": 1,
   "id": "a7d594c1",
   "metadata": {},
   "outputs": [],
   "source": [
    "import csv # Python library used for reading and writing tabular data in CSV format.\n",
    "import pandas as pd # Python library used for working with data sets. It has functions for analyzing, cleaning, exploring, and manipulating data. \n",
    "import json # Python library for encoding and decoding custom objects by using JSON encoder and decoder classes.\n",
    "import numpy as np # Python library for adding support to large, multi-dimensional arrays and matrices, along with a large collection of high-level mathematical functions to operate on these arrays.\n",
    "import seaborn as sns #Python library for statistical visualizations\n",
    "import statistics as stat #Python library for statistical operations\n",
    "import matplotlib.pyplot as plt # Python library for creating graphs\n",
    "from scipy import stats # Python library for linear regression"
   ]
  },
  {
   "cell_type": "code",
   "execution_count": 2,
   "id": "3db04400",
   "metadata": {},
   "outputs": [],
   "source": [
    "lottery = pd.read_csv(\"Lottery_Powerball_Winning_Numbers__Beginning_2010.csv\")"
   ]
  },
  {
   "cell_type": "code",
   "execution_count": 3,
   "id": "924c66c8",
   "metadata": {},
   "outputs": [
    {
     "data": {
      "text/plain": [
       "Draw Date           object\n",
       "Winning Numbers     object\n",
       "Multiplier         float64\n",
       "dtype: object"
      ]
     },
     "execution_count": 3,
     "metadata": {},
     "output_type": "execute_result"
    }
   ],
   "source": [
    "lottery.dtypes"
   ]
  },
  {
   "cell_type": "markdown",
   "id": "e4d3e826",
   "metadata": {},
   "source": [
    "After conducting an initial inspection of the data, we have three variables: \n",
    "- `Draw Date`: an **object** type value, the `Draw Date` is the date that a particular draw was held.\n",
    "- `Winning Numbers`: an **object** type value, there are two types of balls to be drawn\n",
    "    - the first five `Winning Numbers` are `white ball`s which are numbered `1` to `69`\n",
    "    - the last of the `Winning Numbers` is a `red ball`, which is numbered `1` to `26`.\n",
    "- `Multiplier`: a **float64** type value, the `Multiplier` is a number that is randomly drawn from `2`, `3`, `4`, `5`, or `10` prior to the `Winning Numbers` draw. This value can *multiply* non-jackpot prizes by the drawn amount. The `10`x `Multiplier` is only in play when the advertised jackpot annuity is $150 million or less.\n",
    "\n",
    "In order to utilize the values of the `Winning Numbers`, we will creating new columns based off of `Winning Numbers`."
   ]
  },
  {
   "cell_type": "code",
   "execution_count": 4,
   "id": "20b440ac",
   "metadata": {},
   "outputs": [],
   "source": [
    "# Define a new list of just the Winning Numbers\n",
    "winning_numbers = lottery[\"Winning Numbers\"]\n",
    "\n",
    "# Define empty lists for each winning number position\n",
    "winning_number_first = []\n",
    "winning_number_second = []\n",
    "winning_number_third = []\n",
    "winning_number_fourth = []\n",
    "winning_number_fifth = []\n",
    "winning_number_sixth = []\n",
    "\n",
    "# Loop over each of the Winning Numbers to append the empty lists above\n",
    "for number in winning_numbers:\n",
    "    first = number[0:2]\n",
    "    winning_number_first.append(first)\n",
    "    \n",
    "    second = number[3:5]\n",
    "    winning_number_second.append(second)\n",
    "    \n",
    "    third = number[6:8]\n",
    "    winning_number_third.append(third)\n",
    "    \n",
    "    fourth = number[9:11]\n",
    "    winning_number_fourth.append(fourth)\n",
    "    \n",
    "    fifth = number[12:14]\n",
    "    winning_number_fifth.append(fifth)\n",
    "    \n",
    "    sixth = number[15:]\n",
    "    winning_number_sixth.append(sixth)\n",
    "    \n",
    "# Create new columns in lottery\n",
    "lottery[\"First Winning Number\"] = winning_number_first\n",
    "lottery[\"Second Winning Number\"] = winning_number_second\n",
    "lottery[\"Third Winning Number\"] = winning_number_third\n",
    "lottery[\"Fourth Winning Number\"] = winning_number_fourth\n",
    "lottery[\"Fifth Winning Number\"] = winning_number_fifth\n",
    "lottery[\"Red Ball Number\"] = winning_number_sixth\n",
    "\n",
    "# Change the Types of the newly created columns\n",
    "lottery[\"First Winning Number\"] = lottery[\"First Winning Number\"].astype(\"int\")\n",
    "lottery[\"Second Winning Number\"] = lottery[\"Second Winning Number\"].astype(\"int\")\n",
    "lottery[\"Third Winning Number\"] = lottery[\"Third Winning Number\"].astype(\"int\")\n",
    "lottery[\"Fourth Winning Number\"] = lottery[\"Fourth Winning Number\"].astype(\"int\")\n",
    "lottery[\"Fifth Winning Number\"] = lottery[\"Fifth Winning Number\"].astype(\"int\")\n",
    "lottery[\"Red Ball Number\"] = lottery[\"Red Ball Number\"].astype(\"int\")"
   ]
  },
  {
   "cell_type": "markdown",
   "id": "9ac5d23a",
   "metadata": {},
   "source": [
    "## White Balls vs Red Balls\n",
    "We will now take our updated `lottery` DataFrame and create new DataFrames to capture `White Balls` and `Red Balls`."
   ]
  },
  {
   "cell_type": "code",
   "execution_count": 5,
   "id": "2c8225f0",
   "metadata": {},
   "outputs": [
    {
     "name": "stdout",
     "output_type": "stream",
     "text": [
      "[24 18 20 19  5 23 26  6 13 14 11  4 10  7  3  2 22  9  8  1 21 16 25 17\n",
      " 12 15 27 28 35 33 29 32 30 34 31 37 36 38 39]\n",
      "[24 18 20 19  5 23 26  6 13 14 11  4 10  7  3  2 22  9  8  1 21 16 25 17\n",
      " 12 15 27 28 35 33 29 32 30 34 31 37 36 38 39]\n"
     ]
    }
   ],
   "source": [
    "# Define an empty list\n",
    "white_numbers = []\n",
    "red_numbers = []\n",
    "\n",
    "# Define a function to append numbers from a list to all_numbers\n",
    "def transfer_number(numbers, append_list):\n",
    "    for number in numbers:\n",
    "        append_list.append(number)\n",
    "\n",
    "# Use transfer_number to append all_numbers\n",
    "transfer_number(winning_number_first, white_numbers)\n",
    "transfer_number(winning_number_second, white_numbers)\n",
    "transfer_number(winning_number_third, white_numbers)\n",
    "transfer_number(winning_number_fourth, white_numbers)\n",
    "transfer_number(winning_number_fifth, white_numbers)\n",
    "transfer_number(winning_number_sixth, red_numbers)\n",
    "\n",
    "# Transform the lists into a Pandas DataFrame\n",
    "all_white_numbers = pd.DataFrame({\"Number\": white_numbers})\n",
    "all_red_numbers = pd.DataFrame({\"Number\": red_numbers})\n",
    "\n",
    "# Define the type of Number as int\n",
    "all_white_numbers[\"Number\"] = all_white_numbers[\"Number\"].astype(\"int\")\n",
    "all_red_numbers[\"Number\"] = all_red_numbers[\"Number\"].astype(\"int\")\n",
    "print(lottery[\"Red Ball Number\"].unique())\n",
    "print(all_red_numbers[\"Number\"].unique())\n",
    "#print(len(lottery)) # Output: 1529\n",
    "#print(len(all_white_numbers)) # Output: 7645\n",
    "#print(len(all_red_numbers)) # Output: 1529"
   ]
  },
  {
   "cell_type": "markdown",
   "id": "a1c31a5c",
   "metadata": {},
   "source": [
    "Now that we have the DataFrames `all_white_numbers` and `all_red_numbers`, we will visualize the frequency of each of the numbers drawn.\n",
    "\n",
    "We will assume that each `White Ball` has an equal chance of being drawn on any given drawing. Since we have 1,529 observations in our `lottery` dataset, and since we have `5` drawings for `White Balls` in each drawing, the total number of `White Balls` drawn is `7,645`. Therefore, we should expect that each number, from `1` to `69`, should be drawn\n",
    "\n",
    "$$ \\frac{7645}{69} ≈ 110.8 \\text{ times.} $$\n",
    "\n",
    "We will also assume that each `Red Ball` has an equal chance of being drawn on any given drawing. Since we have 1,529 observations in our `lottery` dataset, and since there is only `1` drawing of `Red Balls` per drawing, then the total number of `Red Balls` drawn is `1,529`. Therefore, we should expect that each number, from `1` to `26`, should be drawn\n",
    "\n",
    "$$ \\frac{1529}{26} ≈ 58.8 \\text{ times.} $$\n",
    "\n",
    "We will now create a Table of Frequency and a Table of Relative Frequency for both `all_white_numbers` and `all_red_numbers`."
   ]
  },
  {
   "cell_type": "code",
   "execution_count": 6,
   "id": "8760387c",
   "metadata": {},
   "outputs": [],
   "source": [
    "# Create a Table of Frequency and Relative Frequency for each White Ball\n",
    "all_white_frequency = all_white_numbers[\"Number\"].value_counts(normalize = False).reset_index().sort_values(\"Number\")\n",
    "all_white_relative_frequency = all_white_numbers[\"Number\"].value_counts(normalize = True).reset_index().sort_values(\"Number\")\n",
    "\n",
    "# Create a Table of Frequency and Relative Frequency for each Red Ball\n",
    "all_red_frequency = all_red_numbers[\"Number\"].value_counts(normalize = False).reset_index().sort_values(\"Number\")\n",
    "all_red_relative_frequency = all_red_numbers[\"Number\"].value_counts(normalize = True).reset_index().sort_values(\"Number\")\n"
   ]
  },
  {
   "cell_type": "markdown",
   "id": "ed983aaa",
   "metadata": {},
   "source": [
    "After creating our tables, we will visualize the data using bar charts. "
   ]
  },
  {
   "cell_type": "code",
   "execution_count": 7,
   "id": "6c1eb1dd",
   "metadata": {},
   "outputs": [
    {
     "data": {
      "image/png": "[encoded data removed]",
      "text/plain": [
       "<Figure size 640x480 with 1 Axes>"
      ]
     },
     "metadata": {},
     "output_type": "display_data"
    }
   ],
   "source": [
    "# Create a Bar Chart\n",
    "plt.bar(all_white_frequency[\"Number\"],\n",
    "       all_white_frequency[\"count\"])\n",
    "\n",
    "# Create the expected value for frequency\n",
    "expected_value = len(all_white_numbers) / 69\n",
    "\n",
    "# Plot the expected_value\n",
    "plt.axhline(y = expected_value, color = \"red\", label = \"Expected Frequency, 110.8\")\n",
    "\n",
    "# Create Labels\n",
    "plt.title(\"Bar Chart for All Drawn White Balls\")\n",
    "plt.xlabel(\"Number\")\n",
    "plt.ylabel(\"Frequency\")\n",
    "plt.legend()\n",
    "\n",
    "# Show and Close the Plot\n",
    "plt.show()\n",
    "plt.close()"
   ]
  },
  {
   "cell_type": "code",
   "execution_count": 8,
   "id": "31f0be0a",
   "metadata": {},
   "outputs": [
    {
     "data": {
      "image/png": "[encoded data removed]",
      "text/plain": [
       "<Figure size 640x480 with 1 Axes>"
      ]
     },
     "metadata": {},
     "output_type": "display_data"
    }
   ],
   "source": [
    "# Create a Bar Chart\n",
    "plt.bar(all_red_frequency[\"Number\"],\n",
    "       all_red_frequency[\"count\"])\n",
    "\n",
    "# Create the expected value for frequency\n",
    "expected_value = len(all_red_numbers) / 26\n",
    "\n",
    "# Plot the expected_value\n",
    "plt.axhline(y = expected_value, color = \"red\", label = \"Expected Frequency, 58.8\")\n",
    "\n",
    "# Create Labels\n",
    "plt.title(\"Bar Chart for All Drawn Red Balls\")\n",
    "plt.xlabel(\"Number\")\n",
    "plt.ylabel(\"Frequency\")\n",
    "plt.legend()\n",
    "\n",
    "# Show and Close the Plot\n",
    "plt.show()\n",
    "plt.close()"
   ]
  },
  {
   "cell_type": "markdown",
   "id": "2761d433",
   "metadata": {},
   "source": [
    "Our graphs show some interesting discoveries. First, there is an overwhemingly large gap from the expected line of 110.8 to `59` through `69` in the **Bar Chart for All Drawn White Balls**. Second, we are seeing `Red Balls` drawn with a value greater than `26`. What is going on?"
   ]
  },
  {
   "cell_type": "markdown",
   "id": "1560de4b",
   "metadata": {},
   "source": [
    "## The Powerball 2015 Format Change\n",
    "\n",
    "The Powerball format changed on October 4, 2015. The `White Ball` pool **increased** from `59` to `69`, while the Powerball `Red Ball` pool **decreased** from `35` to `26`. This ultimately made it easier to win *a prize* but more difficult to win *the grandprize*. \n",
    "\n",
    "See [Wikipedia's Article](https://en.wikipedia.org/wiki/Powerball#:~:text=joined%20Mega%20Millions.-,2015%20format%20change,-%5Bedit%5D) detailing the new rule changes and the [Los Angeles Times](https://www.latimes.com/business/hiltzik/la-fi-mh-powerball-rules-were-tweaked-20160112-column.html) artile for more details on the rule change.\n",
    "\n",
    "We will need to create a new DataFrame to make sure our data is following the current rule structure."
   ]
  },
  {
   "cell_type": "code",
   "execution_count": 9,
   "id": "d93b3a71",
   "metadata": {},
   "outputs": [],
   "source": [
    "# Create new columns to gather data on the date\n",
    "lottery[\"Draw Month\"] = lottery[\"Draw Date\"].apply(lambda x: x.split(\"/\")[0]).astype(\"int\")\n",
    "lottery[\"Draw Day\"] = lottery[\"Draw Date\"].apply(lambda x: x.split(\"/\")[1]).astype(\"int\")\n",
    "lottery[\"Draw Year\"] = lottery[\"Draw Date\"].apply(lambda x: x.split(\"/\")[2]).astype(\"int\")"
   ]
  },
  {
   "cell_type": "markdown",
   "id": "f1c552be",
   "metadata": {},
   "source": [
    "To be safe, we will use all drawings starting on `January 2016` since the rule change was on `October 4, 2015`."
   ]
  },
  {
   "cell_type": "code",
   "execution_count": 10,
   "id": "2bb18e48",
   "metadata": {},
   "outputs": [],
   "source": [
    "# Create a new DataFrame with only data post-rule change\n",
    "lottery = lottery[lottery[\"Draw Year\"] >= 2016]"
   ]
  },
  {
   "cell_type": "code",
   "execution_count": 11,
   "id": "bd3b5586",
   "metadata": {},
   "outputs": [
    {
     "data": {
      "image/png": "[encoded data removed]",
      "text/plain": [
       "<Figure size 640x480 with 1 Axes>"
      ]
     },
     "metadata": {},
     "output_type": "display_data"
    }
   ],
   "source": [
    "# Create a Histogram\n",
    "plt.hist(all_white_numbers[\"Number\"], range = (1, 69), bins = 69)\n",
    "\n",
    "# Create the expected value for frequency\n",
    "expected_value = len(all_white_numbers) / 69\n",
    "\n",
    "# Plot the expected_value\n",
    "plt.axhline(y = expected_value, color = \"red\", label = \"Expected Frequency\")\n",
    "\n",
    "# Create Labels\n",
    "plt.title(\"White Balls\")\n",
    "plt.ylabel(\"Frequency\")\n",
    "\n",
    "plt.show()\n",
    "plt.close()"
   ]
  },
  {
   "cell_type": "code",
   "execution_count": 12,
   "id": "f6279d22",
   "metadata": {},
   "outputs": [
    {
     "data": {
      "image/png": "[encoded data removed]",
      "text/plain": [
       "<Figure size 640x480 with 1 Axes>"
      ]
     },
     "metadata": {},
     "output_type": "display_data"
    }
   ],
   "source": [
    "# Create a Histogram\n",
    "plt.hist(all_red_numbers[\"Number\"], range = (1, 26), bins = 26)\n",
    "\n",
    "# Create Labels\n",
    "plt.title(\"Red Balls\")\n",
    "\n",
    "plt.show()\n",
    "plt.close()"
   ]
  },
  {
   "cell_type": "code",
   "execution_count": null,
   "id": "2a25e92b",
   "metadata": {},
   "outputs": [],
   "source": []
  },
  {
   "cell_type": "code",
   "execution_count": 13,
   "id": "54b6c007",
   "metadata": {},
   "outputs": [],
   "source": [
    "# Create Sum Columns\n",
    "lottery[\"Sum of White Balls\"] = lottery[\"First Winning Number\"] + lottery[\"Second Winning Number\"] + lottery[\"Third Winning Number\"] + lottery[\"Fourth Winning Number\"] + lottery[\"Fifth Winning Number\"]\n",
    "lottery[\"Sum of All Balls\"] = lottery[\"Sum of White Balls\"] + lottery[\"Red Ball Number\"]"
   ]
  },
  {
   "cell_type": "code",
   "execution_count": 14,
   "id": "ee146ddb",
   "metadata": {},
   "outputs": [
    {
     "data": {
      "image/png": "[encoded data removed]",
      "text/plain": [
       "<Figure size 640x480 with 1 Axes>"
      ]
     },
     "metadata": {},
     "output_type": "display_data"
    },
    {
     "name": "stdout",
     "output_type": "stream",
     "text": [
      "52\n",
      "299\n"
     ]
    }
   ],
   "source": [
    "# Create a Histogram\n",
    "plt.hist(lottery[\"Sum of White Balls\"], bins = 30)\n",
    "\n",
    "# Define the Median and Mean \n",
    "median = lottery[\"Sum of White Balls\"].median()\n",
    "mean = lottery[\"Sum of White Balls\"].mean()\n",
    "\n",
    "# Construct the Median and Mean Lines\n",
    "plt.axvline(x = mean, color = \"red\", label = \"Mean\")\n",
    "plt.axvline(x = median, color = \"green\", label = \"Median\")\n",
    "\n",
    "# Create Labels\n",
    "plt.title(\"Sum of White Balls\")\n",
    "plt.legend()\n",
    "\n",
    "# Show and Close the Plot\n",
    "plt.show()\n",
    "plt.close()\n",
    "\n",
    "print(np.min(lottery[\"Sum of White Balls\"]))\n",
    "print(np.max(lottery[\"Sum of White Balls\"]))\n"
   ]
  },
  {
   "cell_type": "code",
   "execution_count": 15,
   "id": "bae0f00d",
   "metadata": {},
   "outputs": [
    {
     "data": {
      "image/png": "[encoded data removed]",
      "text/plain": [
       "<Figure size 640x480 with 1 Axes>"
      ]
     },
     "metadata": {},
     "output_type": "display_data"
    }
   ],
   "source": [
    "# Create a Histogram\n",
    "plt.hist(lottery[\"Sum of All Balls\"], bins = 21)\n",
    "\n",
    "# Define the Median and Mean \n",
    "median = lottery[\"Sum of All Balls\"].median()\n",
    "mean = lottery[\"Sum of All Balls\"].mean()\n",
    "\n",
    "# Construct the Median and Mean Lines\n",
    "plt.axvline(x = mean, color = \"red\", label = \"Mean\")\n",
    "plt.axvline(x = median, color = \"green\", label = \"Median\")\n",
    "\n",
    "# Create Labels\n",
    "plt.title(\"Sum of All Balls\")\n",
    "plt.legend()\n",
    "\n",
    "plt.show()\n",
    "plt.close()"
   ]
  },
  {
   "cell_type": "code",
   "execution_count": 16,
   "id": "c85fff22",
   "metadata": {},
   "outputs": [
    {
     "data": {
      "text/html": [
       "<div>\n",
       "<style scoped>\n",
       "    .dataframe tbody tr th:only-of-type {\n",
       "        vertical-align: middle;\n",
       "    }\n",
       "\n",
       "    .dataframe tbody tr th {\n",
       "        vertical-align: top;\n",
       "    }\n",
       "\n",
       "    .dataframe thead th {\n",
       "        text-align: right;\n",
       "    }\n",
       "</style>\n",
       "<table border=\"1\" class=\"dataframe\">\n",
       "  <thead>\n",
       "    <tr style=\"text-align: right;\">\n",
       "      <th></th>\n",
       "      <th>Draw Date</th>\n",
       "      <th>Winning Numbers</th>\n",
       "      <th>Multiplier</th>\n",
       "      <th>First Winning Number</th>\n",
       "      <th>Second Winning Number</th>\n",
       "      <th>Third Winning Number</th>\n",
       "      <th>Fourth Winning Number</th>\n",
       "      <th>Fifth Winning Number</th>\n",
       "      <th>Red Ball Number</th>\n",
       "      <th>Draw Month</th>\n",
       "      <th>Draw Day</th>\n",
       "      <th>Draw Year</th>\n",
       "      <th>Sum of White Balls</th>\n",
       "      <th>Sum of All Balls</th>\n",
       "    </tr>\n",
       "  </thead>\n",
       "  <tbody>\n",
       "    <tr>\n",
       "      <th>0</th>\n",
       "      <td>09/26/2020</td>\n",
       "      <td>11 21 27 36 62 24</td>\n",
       "      <td>3.0</td>\n",
       "      <td>11</td>\n",
       "      <td>21</td>\n",
       "      <td>27</td>\n",
       "      <td>36</td>\n",
       "      <td>62</td>\n",
       "      <td>24</td>\n",
       "      <td>9</td>\n",
       "      <td>26</td>\n",
       "      <td>2020</td>\n",
       "      <td>157</td>\n",
       "      <td>181</td>\n",
       "    </tr>\n",
       "    <tr>\n",
       "      <th>1</th>\n",
       "      <td>09/30/2020</td>\n",
       "      <td>14 18 36 49 67 18</td>\n",
       "      <td>2.0</td>\n",
       "      <td>14</td>\n",
       "      <td>18</td>\n",
       "      <td>36</td>\n",
       "      <td>49</td>\n",
       "      <td>67</td>\n",
       "      <td>18</td>\n",
       "      <td>9</td>\n",
       "      <td>30</td>\n",
       "      <td>2020</td>\n",
       "      <td>184</td>\n",
       "      <td>202</td>\n",
       "    </tr>\n",
       "    <tr>\n",
       "      <th>2</th>\n",
       "      <td>10/03/2020</td>\n",
       "      <td>18 31 36 43 47 20</td>\n",
       "      <td>2.0</td>\n",
       "      <td>18</td>\n",
       "      <td>31</td>\n",
       "      <td>36</td>\n",
       "      <td>43</td>\n",
       "      <td>47</td>\n",
       "      <td>20</td>\n",
       "      <td>10</td>\n",
       "      <td>3</td>\n",
       "      <td>2020</td>\n",
       "      <td>175</td>\n",
       "      <td>195</td>\n",
       "    </tr>\n",
       "    <tr>\n",
       "      <th>3</th>\n",
       "      <td>10/07/2020</td>\n",
       "      <td>06 24 30 53 56 19</td>\n",
       "      <td>2.0</td>\n",
       "      <td>6</td>\n",
       "      <td>24</td>\n",
       "      <td>30</td>\n",
       "      <td>53</td>\n",
       "      <td>56</td>\n",
       "      <td>19</td>\n",
       "      <td>10</td>\n",
       "      <td>7</td>\n",
       "      <td>2020</td>\n",
       "      <td>169</td>\n",
       "      <td>188</td>\n",
       "    </tr>\n",
       "    <tr>\n",
       "      <th>4</th>\n",
       "      <td>10/10/2020</td>\n",
       "      <td>05 18 23 40 50 18</td>\n",
       "      <td>3.0</td>\n",
       "      <td>5</td>\n",
       "      <td>18</td>\n",
       "      <td>23</td>\n",
       "      <td>40</td>\n",
       "      <td>50</td>\n",
       "      <td>18</td>\n",
       "      <td>10</td>\n",
       "      <td>10</td>\n",
       "      <td>2020</td>\n",
       "      <td>136</td>\n",
       "      <td>154</td>\n",
       "    </tr>\n",
       "  </tbody>\n",
       "</table>\n",
       "</div>"
      ],
      "text/plain": [
       "    Draw Date    Winning Numbers  Multiplier  First Winning Number  \\\n",
       "0  09/26/2020  11 21 27 36 62 24         3.0                    11   \n",
       "1  09/30/2020  14 18 36 49 67 18         2.0                    14   \n",
       "2  10/03/2020  18 31 36 43 47 20         2.0                    18   \n",
       "3  10/07/2020  06 24 30 53 56 19         2.0                     6   \n",
       "4  10/10/2020  05 18 23 40 50 18         3.0                     5   \n",
       "\n",
       "   Second Winning Number  Third Winning Number  Fourth Winning Number  \\\n",
       "0                     21                    27                     36   \n",
       "1                     18                    36                     49   \n",
       "2                     31                    36                     43   \n",
       "3                     24                    30                     53   \n",
       "4                     18                    23                     40   \n",
       "\n",
       "   Fifth Winning Number  Red Ball Number  Draw Month  Draw Day  Draw Year  \\\n",
       "0                    62               24           9        26       2020   \n",
       "1                    67               18           9        30       2020   \n",
       "2                    47               20          10         3       2020   \n",
       "3                    56               19          10         7       2020   \n",
       "4                    50               18          10        10       2020   \n",
       "\n",
       "   Sum of White Balls  Sum of All Balls  \n",
       "0                 157               181  \n",
       "1                 184               202  \n",
       "2                 175               195  \n",
       "3                 169               188  \n",
       "4                 136               154  "
      ]
     },
     "execution_count": 16,
     "metadata": {},
     "output_type": "execute_result"
    }
   ],
   "source": [
    "lottery.head()"
   ]
  }
 ],
 "metadata": {
  "kernelspec": {
   "display_name": "Python 3 (ipykernel)",
   "language": "python",
   "name": "python3"
  },
  "language_info": {
   "codemirror_mode": {
    "name": "ipython",
    "version": 3
   },
   "file_extension": ".py",
   "mimetype": "text/x-python",
   "name": "python",
   "nbconvert_exporter": "python",
   "pygments_lexer": "ipython3",
   "version": "3.11.5"
  }
 },
 "nbformat": 4,
 "nbformat_minor": 5
}
